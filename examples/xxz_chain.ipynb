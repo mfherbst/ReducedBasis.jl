{
 "cells": [
  {
   "cell_type": "code",
   "execution_count": 1,
   "metadata": {},
   "outputs": [],
   "source": [
    "using MKL\n",
    "using Revise\n",
    "using LinearAlgebra\n",
    "using SparseArrays\n",
    "using ReducedBasis\n",
    "using Plots"
   ]
  },
  {
   "cell_type": "markdown",
   "metadata": {},
   "source": [
    "Construct the $S=1/2$ XXZ Hamiltonian\n",
    "$$\n",
    "H(\\mathbf{\\mu}) = \\sum_{i=1}^{L-1} [S_i^x S_{i+1}^x + S_i^y S_{i+1}^y\n",
    "+ \\Delta S_i^z S_{i+1}^z ] - \\frac{h}{J} \\sum_{i=1}^L S_i^z\n",
    "$$\n",
    "with the parameter vector $\\mathbf{\\mu} = (\\Delta,\\, h/J)$. The many-body spin operators $S_i^\\gamma = (\\otimes^{i-1} I) \\otimes \\frac{1}{2}\\sigma^\\gamma \\otimes (\\otimes^{L-1} I)$ are constructed from the $2 \\times 2$ Pauli matrices\n",
    "$$\n",
    "\\sigma^x = \\begin{bmatrix} 0 & 1 \\\\ 1 & 0 \\end{bmatrix}, \\quad\n",
    "\\sigma^y = \\begin{bmatrix} 0 & -i \\\\ i & 0 \\end{bmatrix}, \\quad\n",
    "\\sigma^z = \\begin{bmatrix} 1 & 0 \\\\ 0 & -1 \\end{bmatrix}.\n",
    "$$"
   ]
  },
  {
   "cell_type": "code",
   "execution_count": 2,
   "metadata": {},
   "outputs": [
    {
     "data": {
      "text/plain": [
       "local_to_global (generic function with 1 method)"
      ]
     },
     "metadata": {},
     "output_type": "display_data"
    }
   ],
   "source": [
    "# Define (dense) Pauli matrices\n",
    "const σx = [0.0 1.0; 1.0 0.0]\n",
    "const σy = [0.0 -im; im 0.0]\n",
    "const σz = [1.0 0.0; 0.0 1.0]\n",
    "\n",
    "# Convert local-site to many-body operator\n",
    "function local_to_global(L::Int, op::AbstractMatrix, i::Int)\n",
    "    d = size(op, 1)\n",
    "    @assert d == size(op, 2) \"Operator has to be a square matrix.\"\n",
    "\n",
    "    if i == 1\n",
    "        return kron(op, sparse(I, d^(L - 1), d^(L - 1)))\n",
    "    elseif i == N\n",
    "        return kron(sparse(I, d^(N - 1), d^(N - 1)), op)\n",
    "    else\n",
    "        return kron(\n",
    "            kron(sparse(I, d^(i - 1), d^(i - 1)), op), sparse(I, d^(N - i), d^(N - i))\n",
    "        )\n",
    "    end\n",
    "end"
   ]
  },
  {
   "cell_type": "markdown",
   "metadata": {},
   "source": [
    "In the RBM framework we must formulate $H(\\mathbf{\\mu})$ in terms of an *affine decomposition*\n",
    "$$\n",
    "H(\\mathbf{\\mu}) = \\sum_{q=1}^Q \\theta_q(\\mathbf{\\mu})\\, H_q\n",
    "$$\n",
    "where $H_q$ are Hermitian matrices of Hilbert space dimension and only the coefficients $\\theta_q(\\mathbf{\\mu})$ are parameter-dependent."
   ]
  },
  {
   "cell_type": "code",
   "execution_count": 4,
   "metadata": {},
   "outputs": [
    {
     "data": {
      "text/plain": [
       "xxz_chain (generic function with 1 method)"
      ]
     },
     "metadata": {},
     "output_type": "display_data"
    }
   ],
   "source": [
    "function xxz_chain(L, ::Matrix)\n",
    "    H1 = 0.25 * sum([\n",
    "        local_to_global(L, σx, i) * local_to_global(L, σx, i + 1) +\n",
    "        local_to_global(L, σy, i) * local_to_global(L, σy, i + 1) for i = 1:L-1\n",
    "    ])\n",
    "    H2 = 0.25 * sum([\n",
    "        local_to_global(L, σz, i) * local_to_global(L, σz, i + 1) for i = 1:L-1\n",
    "    ])\n",
    "    H3 = 0.5 * sum([local_to_global(L, σz, i) for i = 1:L])\n",
    "    coefficient_map = μ -> [1.0, μ[1], -μ[2]]\n",
    "    return AffineDecomposition([H1, H2, H3], coefficient_map)\n",
    "end"
   ]
  },
  {
   "cell_type": "markdown",
   "metadata": {},
   "source": [
    "Next, we initialize all objects and parameters that are needed to assemble a reduced basis. This includes\n",
    "\n",
    "- the model, initialized as an `AffineDecomposition` object\n",
    "- the `Greedy` assembly strategy using RB errors estimation from the `Residual` struct corresponding to $\\mathrm{Res}_n(\\mathbf{\\mu})$\n",
    "- the truth solver for determining the *snapshots* at different parameter points, using `FullDiagonalization`\n",
    "- the training grid of all parameter points to choose from, using `RegularGrid`"
   ]
  },
  {
   "cell_type": "code",
   "execution_count": null,
   "metadata": {},
   "outputs": [],
   "source": [
    "L = 8\n",
    "H_XXZ = xxz_chain(L, ::Matrix)\n",
    "\n",
    "greedy = Greedy(; estimator=Residual(), tol_residual=1e-3, n_truth_max=64)\n",
    "\n",
    "solver = FullDiagonalization(;\n",
    "    n_states_max=9, tol_degeneracy=1e-4, full_orthogonalize=false, tol_qr=1e-10\n",
    ") # m = L + 1 degeneracy at (Δ, h/J) = (-1, 0)\n",
    "\n",
    "Δ = range(-1.0, 2.5, 40)\n",
    "h = range(0.0, 3.5, 40)\n",
    "grid_train = RegularGrid(Δ, h)"
   ]
  },
  {
   "cell_type": "code",
   "execution_count": null,
   "metadata": {},
   "outputs": [],
   "source": [
    "basis, h, diagnostics = assemble(\n",
    "    H_XXZ, grid_train, greedy, solver; solver_online=solver\n",
    ")"
   ]
  },
  {
   "cell_type": "markdown",
   "metadata": {},
   "source": [
    "To finish the offline phase, we measure an observable. In this example we want to measure the magnetization\n",
    "$$\n",
    "M = \\frac{2}{L} \\sum_{i=1}^L S_i^z,\n",
    "$$\n",
    "for we which again construct an `AffineDecomposition` that only contains one term and one coefficent. Note that this term is already contained in $H(\\mathbf{\\mu})$."
   ]
  },
  {
   "cell_type": "code",
   "execution_count": null,
   "metadata": {},
   "outputs": [],
   "source": [
    "M = AffineDecomposition([H.terms[3]], μ -> [2 / L])\n",
    "m = compress(M, basis)"
   ]
  },
  {
   "cell_type": "markdown",
   "metadata": {},
   "source": [
    "The measurements in the online phase are performed by calling the reduced observables, which are just in `AffineDecomposition` form again. Due to the reduced computational effort, we can define a much finer grid now."
   ]
  },
  {
   "cell_type": "code",
   "execution_count": null,
   "metadata": {},
   "outputs": [],
   "source": [
    "Δ_online = range(first(Δ), last(Δ), 200)\n",
    "h_online = range(first(h), last(h), 200)\n",
    "grid_online = RegularGrid(Δ_online, h_online)\n",
    "\n",
    "magnetization = Matrix{Float64}(undef, size(grid_online))\n",
    "m_reduced = m([1])  # Save observable, since coefficients do not depend on μ \n",
    "for (idx, μ) in pairs(grid_online)\n",
    "    λ_rb, φ_rb = online_solve(h, basis.metric, μ, solver)\n",
    "    magnetization[idx] = sum(eachcol(φ_rb)) do φ\n",
    "        dot(φ, m_reduced, φ) / size(φ_rb, 2)\n",
    "    end\n",
    "end"
   ]
  }
 ],
 "metadata": {
  "kernelspec": {
   "display_name": "Julia 1.8.1",
   "language": "julia",
   "name": "julia-1.8"
  },
  "language_info": {
   "file_extension": ".jl",
   "mimetype": "application/julia",
   "name": "julia",
   "version": "1.8.1"
  },
  "orig_nbformat": 4
 },
 "nbformat": 4,
 "nbformat_minor": 2
}
